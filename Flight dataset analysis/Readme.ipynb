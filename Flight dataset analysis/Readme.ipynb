{
 "cells": [
  {
   "cell_type": "markdown",
   "id": "4fc047c4",
   "metadata": {},
   "source": [
    "# Flight Dataset Exploration  \n",
    "\n",
    "\n",
    "## Dataset  \n",
    "The dataset name is \"Airline On-Time Performance Data\". This dataset reports flights in the United States, including carriers, arrival and departure delays, and reasons for delays, from 1987 to 2008.\n",
    "But for this project, i'll be working on year 2007,2008 and 2006.\n",
    "The link to the datasets is https://community.amstat.org/jointscsg-section/dataexpo/dataexpo2009   \n",
    "\n",
    "## Summary of findings   \n",
    "In the exploration, i found out the Carrier is the most frequent cause of flight's cancellation. I also found out that mostcancellations happen on thursday(5) and the month of february. \n",
    "One of what i found out was that year 2007 experienced the most cancelled flight.  \n",
    "Deep diving into the various causes for flight cancellation, i found out that a flight being cancelled because of Carrier or Weather happens more frequently in February, though, Weather causing cancellation in february is more than Carrier causing cancellation in february. Analysing further,by separating the chart by year, i found out that most of the february related cancellation occured in year 2008, which was surprising because 2007 experienced the most cancelled flight  \n",
    "\n",
    "## Key Insights for presentation  \n",
    "For the presentation, i focused on just presenting the visualizations that enables the user get information on what year experienced the most delay and cancellation of flights. I also displayed  a bar chart that shows the distribution of the causes of flight cancellation.  \n",
    "I also displayed the visualization that shows the days of week and month that experiences the most delayed and cancelled flight.\n"
   ]
  },
  {
   "cell_type": "code",
   "execution_count": null,
   "id": "041221c4",
   "metadata": {},
   "outputs": [],
   "source": []
  }
 ],
 "metadata": {
  "kernelspec": {
   "display_name": "Python 3 (ipykernel)",
   "language": "python",
   "name": "python3"
  },
  "language_info": {
   "codemirror_mode": {
    "name": "ipython",
    "version": 3
   },
   "file_extension": ".py",
   "mimetype": "text/x-python",
   "name": "python",
   "nbconvert_exporter": "python",
   "pygments_lexer": "ipython3",
   "version": "3.9.13"
  }
 },
 "nbformat": 4,
 "nbformat_minor": 5
}
